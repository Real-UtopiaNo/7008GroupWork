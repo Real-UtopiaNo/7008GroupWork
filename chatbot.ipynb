{
 "cells": [
  {
   "cell_type": "code",
   "execution_count": 1,
   "metadata": {},
   "outputs": [
    {
     "name": "stderr",
     "output_type": "stream",
     "text": [
      "[nltk_data] Downloading package punkt to\n",
      "[nltk_data]     C:\\Users\\19083\\AppData\\Roaming\\nltk_data...\n",
      "[nltk_data]   Package punkt is already up-to-date!\n"
     ]
    },
    {
     "data": {
      "text/plain": [
       "True"
      ]
     },
     "execution_count": 1,
     "metadata": {},
     "output_type": "execute_result"
    }
   ],
   "source": [
    "import nltk\n",
    "from nltk.corpus import movie_reviews\n",
    "from nltk.tokenize import word_tokenize\n",
    "import random\n",
    "\n",
    "\n",
    "nltk.data.path.append('D:/vscode/code/STAT7008B/Group_work')\n",
    "nltk.download('punkt')\n"
   ]
  },
  {
   "cell_type": "markdown",
   "metadata": {},
   "source": [
    "# 加载数据"
   ]
  },
  {
   "cell_type": "code",
   "execution_count": 2,
   "metadata": {},
   "outputs": [
    {
     "name": "stdout",
     "output_type": "stream",
     "text": [
      "0                         Codeium\n",
      "1                         LeiaPix\n",
      "2       GPT-3 Playground (OpenAI)\n",
      "3                      BlueWillow\n",
      "4                    Character.AI\n",
      "                  ...            \n",
      "1007                    Shortwave\n",
      "1008                       Adstra\n",
      "1009                Mental Models\n",
      "1010         AI Listing Architect\n",
      "1011                      Replika\n",
      "Name: tool, Length: 1012, dtype: object\n"
     ]
    }
   ],
   "source": [
    "import pandas as pd\n",
    "data = pd.read_csv('Database/aitools.csv')\n",
    "print(data[\"tool\"])\n",
    "training_data_ai = []\n",
    "for i in range(len(data)):\n",
    "    training_data_ai.append((\"what is \"+data[\"tool\"][i]   ,    data[\"tool\"][i] + \" is a \" + str(data[\"tool_description\"][i])))"
   ]
  },
  {
   "cell_type": "markdown",
   "metadata": {},
   "source": [
    "# 贝叶斯分类器"
   ]
  },
  {
   "cell_type": "code",
   "execution_count": 3,
   "metadata": {},
   "outputs": [
    {
     "name": "stdout",
     "output_type": "stream",
     "text": [
      "ai\n"
     ]
    }
   ],
   "source": [
    "# 假设我们有一些预处理后的数据集（问题和分类标签）\n",
    "training_data = [\n",
    "    ('AI?', 'ai'),\n",
    "    ('VR?', 'vr'),\n",
    "    ('FinTech work?', 'fintech'),\n",
    "    # 更多的问答数据\n",
    "]\n",
    "\n",
    "\n",
    "\n",
    "# 特征提取函数\n",
    "def extract_features(text):\n",
    "    words = word_tokenize(text)\n",
    "    return {word.lower(): True for word in words}\n",
    "\n",
    "# 准备训练集\n",
    "training_set = [(extract_features(q), label) for (q, label) in training_data]\n",
    "# print(training_set)\n",
    "classifier = nltk.NaiveBayesClassifier.train(training_set)\n",
    "\n",
    "# 测试聊天机器人\n",
    "def chatbot_response(user_input):\n",
    "    features = extract_features(user_input)\n",
    "    return classifier.classify(features)\n",
    "\n",
    "# 例子输入\n",
    "question = \"AI tools\"\n",
    "print(chatbot_response(question))\n",
    "question_type = chatbot_response(question)\n"
   ]
  },
  {
   "cell_type": "markdown",
   "metadata": {},
   "source": [
    "# 基于 TF-IDF 的答案检索"
   ]
  },
  {
   "cell_type": "code",
   "execution_count": 4,
   "metadata": {},
   "outputs": [
    {
     "name": "stdout",
     "output_type": "stream",
     "text": [
      "Jenni AI is a AI writing assistant\n"
     ]
    }
   ],
   "source": [
    "from sklearn.feature_extraction.text import TfidfVectorizer\n",
    "from sklearn.metrics.pairwise import cosine_similarity\n",
    "\n",
    "# 问题-答案对\n",
    "# knowledge_base = [\n",
    "#     (\"What is AI?\", \"Artificial Intelligence (AI) refers to the simulation of human intelligence in machines.\"),\n",
    "#     (\"What is VR?\", \"Virtual Reality (VR) is a simulated experience that can be similar to or different from the real world.\"),\n",
    "#     (\"What is blockchain?\", \"Blockchain is a decentralized digital ledger that records transactions across many computers.\")\n",
    "# ]\n",
    "if question_type==\"ai\":\n",
    "    knowledge_base = training_data_ai\n",
    "\n",
    "# 构建 TF-IDF 向量\n",
    "corpus = [pair[0] for pair in knowledge_base]  # 只用问题作为语料\n",
    "vectorizer = TfidfVectorizer()\n",
    "tfidf_matrix = vectorizer.fit_transform(corpus)\n",
    "\n",
    "def retrieve_answer(question, knowledge_base, tfidf_matrix, vectorizer):\n",
    "    # 将用户问题转换为 TF-IDF 向量\n",
    "    question_tfidf = vectorizer.transform([question])\n",
    "    \n",
    "    # 计算用户问题与知识库中问题的相似度\n",
    "    cosine_similarities = cosine_similarity(question_tfidf, tfidf_matrix).flatten()\n",
    "    \n",
    "    # 找到相似度最高的问题\n",
    "    best_match_index = cosine_similarities.argmax()\n",
    "    \n",
    "    # 返回相似度最高的问题的答案\n",
    "    return knowledge_base[best_match_index][1]\n",
    "\n",
    "# 测试\n",
    "user_question = \"What is Jenni AI?\"\n",
    "answer = retrieve_answer(user_question, knowledge_base, tfidf_matrix, vectorizer)\n",
    "print(answer)\n"
   ]
  }
 ],
 "metadata": {
  "kernelspec": {
   "display_name": "stat7008",
   "language": "python",
   "name": "python3"
  },
  "language_info": {
   "codemirror_mode": {
    "name": "ipython",
    "version": 3
   },
   "file_extension": ".py",
   "mimetype": "text/x-python",
   "name": "python",
   "nbconvert_exporter": "python",
   "pygments_lexer": "ipython3",
   "version": "3.10.15"
  }
 },
 "nbformat": 4,
 "nbformat_minor": 2
}
